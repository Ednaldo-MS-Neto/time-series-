{
 "cells": [
  {
   "cell_type": "markdown",
   "id": "2211dff9",
   "metadata": {},
   "source": [
    "# 1 - Importação das bibliotecas"
   ]
  },
  {
   "cell_type": "code",
   "execution_count": 1,
   "id": "ac28d23f",
   "metadata": {},
   "outputs": [],
   "source": [
    "import numpy as np\n",
    "import pandas as pd\n",
    "from scipy.stats import wilcoxon\n",
    "from sklearn.linear_model import LinearRegression\n",
    "from matplotlib import pyplot as plt\n",
    "from sklearn.metrics import mean_absolute_error\n",
    "from sklearn.neural_network import MLPRegressor"
   ]
  },
  {
   "cell_type": "code",
   "execution_count": 2,
   "id": "ef60f93e",
   "metadata": {},
   "outputs": [],
   "source": [
    "#função para calcular o MAPE(Erro Percentual Absoluto Médio)\n",
    "def mape(y_pred,y_true):\n",
    "    return np.mean(np.abs((y_true - y_pred) / y_true)) * 100"
   ]
  },
  {
   "cell_type": "markdown",
   "id": "50911951",
   "metadata": {},
   "source": [
    "# 2 - Importação dos dados"
   ]
  },
  {
   "cell_type": "code",
   "execution_count": 3,
   "id": "cc5f9813",
   "metadata": {},
   "outputs": [],
   "source": [
    "data = pd.read_csv('prime.csv',header=0,index_col=0).sort_index()"
   ]
  },
  {
   "cell_type": "markdown",
   "id": "766ef2c9",
   "metadata": {},
   "source": [
    "# 3 -  Criação do  vetor de caracteristicas X e do vetor resposta y "
   ]
  },
  {
   "cell_type": "code",
   "execution_count": 4,
   "id": "97106112",
   "metadata": {},
   "outputs": [],
   "source": [
    "x_data = []\n",
    "y_data = []"
   ]
  },
  {
   "cell_type": "markdown",
   "id": "39a7ea10",
   "metadata": {},
   "source": [
    "# 3.1 Preenchimento"
   ]
  },
  {
   "cell_type": "markdown",
   "id": "01d34364",
   "metadata": {},
   "source": [
    "### Usamos os 6 meses anteriores(X) para prever o próximo mês(y)"
   ]
  },
  {
   "cell_type": "code",
   "execution_count": 5,
   "id": "479cb932",
   "metadata": {},
   "outputs": [],
   "source": [
    "for d in range(6,data.shape[0]):\n",
    "    x = data.iloc[d-6:d].values.ravel()\n",
    "    y = data.iloc[d].values[0]\n",
    "    x_data.append(x)\n",
    "    y_data.append(y)"
   ]
  },
  {
   "cell_type": "code",
   "execution_count": 6,
   "id": "db300a20",
   "metadata": {},
   "outputs": [],
   "source": [
    "x_data = np.array(x_data)\n",
    "y_data = np.array(y_data)\n",
    "y_pred = [] #lista com todos os y previstos com linear regression\n",
    "y_pred_mlp = []\n",
    "y_pred_last = []\n",
    "y_pred_ma = []\n",
    "y_true = []"
   ]
  },
  {
   "cell_type": "markdown",
   "id": "d1293e8b",
   "metadata": {},
   "source": [
    "> Usei mlpregressor, linear regression(rede neural com camada única de 100 neuronios) e a média móvel para ilustrar oque o professor falou sobre redes neurais as vezes não se sairem tão bem"
   ]
  },
  {
   "cell_type": "code",
   "execution_count": 7,
   "id": "c340f719",
   "metadata": {},
   "outputs": [],
   "source": [
    "end = len(y_data)\n",
    "for i in range(30,end):\n",
    "\n",
    "    x_train = x_data[:i,:]\n",
    "    y_train = y_data[:i]\n",
    "    \n",
    "    x_test = x_data[i,:]\n",
    "    y_test = y_data[i]\n",
    "\n",
    "\n",
    "    regr = MLPRegressor( max_iter=1000).fit(x_train, y_train.ravel())\n",
    "    y_pred_mlp.append(regr.predict([x_test]))\n",
    "    \n",
    "    \n",
    "    model = LinearRegression(normalize=True).fit(x_train,y_train)\n",
    "\n",
    "    y_pred.append(model.predict([x_test]))\n",
    "    y_pred_last.append(x_test[-1])\n",
    "    y_pred_ma.append(x_test.mean())\n",
    "    y_true.append(y_test)\n",
    "\n"
   ]
  },
  {
   "cell_type": "code",
   "execution_count": 8,
   "id": "4e27608a",
   "metadata": {},
   "outputs": [
    {
     "name": "stdout",
     "output_type": "stream",
     "text": [
      "\n",
      "Mean Absolute Percentage Error\n",
      "MAPE Regressão Linear 17.652676714326322\n",
      "MAPE Último Valor 2.7677439037812333\n",
      "MAPE Média Móvel 7.903860891718388\n",
      "\n",
      "Mean Absolute Error\n",
      "MAE Regressão Linear 0.2840871878813477\n",
      "MAE Último Valor 0.427831325301205\n",
      "MAE Média Móvel 1.1985140562248995\n"
     ]
    }
   ],
   "source": [
    "#Transforma as listas em arrays numpy para facilitar os cálculos\n",
    "y_pred = np.array(y_pred)\n",
    "y_pred_last = np.array(y_pred_last)\n",
    "y_pred_ma = np.array(y_pred_ma)\n",
    "y_true = np.array(y_true)\n",
    "\n",
    "\n",
    "#Imprime os erros na tela\n",
    "print('\\nMean Absolute Percentage Error')\n",
    "print ('MAPE Regressão Linear', mape(y_pred,y_true))\n",
    "print ('MAPE Último Valor', mape(y_pred_last,y_true))\n",
    "print ('MAPE Média Móvel', mape(y_pred_ma,y_true))\n",
    "\n",
    "\n",
    "print ('\\nMean Absolute Error')\n",
    "print ('MAE Regressão Linear', mean_absolute_error(y_pred,y_true))\n",
    "print ('MAE Último Valor', mean_absolute_error(y_pred_last,y_true))\n",
    "print ('MAE Média Móvel', mean_absolute_error(y_pred_ma,y_true))\n"
   ]
  },
  {
   "cell_type": "code",
   "execution_count": 9,
   "id": "75ec8c54",
   "metadata": {
    "scrolled": true
   },
   "outputs": [],
   "source": [
    "#Faz o teste Wilcoxon Signed-Rank para determinar significado estatístico da diferença nos erros\n",
    "error_linreg = abs(y_true - y_pred.ravel())\n",
    "error_last = abs(y_true - y_pred_last)"
   ]
  },
  {
   "cell_type": "code",
   "execution_count": 10,
   "id": "e3cdec74",
   "metadata": {},
   "outputs": [
    {
     "name": "stdout",
     "output_type": "stream",
     "text": [
      "Wilcoxon P-value WilcoxonResult(statistic=997.0, pvalue=0.0007067680195027006)\n"
     ]
    }
   ],
   "source": [
    "print('Wilcoxon P-value', wilcoxon(error_linreg,error_last))"
   ]
  },
  {
   "cell_type": "code",
   "execution_count": 11,
   "id": "7e9bf2c9",
   "metadata": {
    "scrolled": true
   },
   "outputs": [
    {
     "data": {
      "image/png": "[encoded data removed]",
      "text/plain": [
       "<Figure size 432x288 with 1 Axes>"
      ]
     },
     "metadata": {
      "needs_background": "light"
     },
     "output_type": "display_data"
    }
   ],
   "source": [
    "plt.title('Prime Rate Brasil - Mensal - 2005 a 2014')\n",
    "plt.ylabel('Prime Rate')\n",
    "plt.xlabel(u'Períodos (Meses)')\n",
    "plt.plot(y_pred,color='b',label='Regressão Linear')\n",
    "plt.plot(y_pred_ma,color='r',label='Média móvel')\n",
    "plt.plot(y_true,color='g', label='Valores Reais')\n",
    "plt.plot(y_pred_mlp,color='k', label='Valores Reais')\n",
    "plt.xlim([0,85])\n",
    "plt.legend = True\n",
    "plt.show()\n"
   ]
  }
 ],
 "metadata": {
  "kernelspec": {
   "display_name": "Python 3 (ipykernel)",
   "language": "python",
   "name": "python3"
  },
  "language_info": {
   "codemirror_mode": {
    "name": "ipython",
    "version": 3
   },
   "file_extension": ".py",
   "mimetype": "text/x-python",
   "name": "python",
   "nbconvert_exporter": "python",
   "pygments_lexer": "ipython3",
   "version": "3.9.7"
  }
 },
 "nbformat": 4,
 "nbformat_minor": 5
}
